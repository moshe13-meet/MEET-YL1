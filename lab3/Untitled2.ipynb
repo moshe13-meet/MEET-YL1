{
 "metadata": {
  "name": ""
 },
 "nbformat": 3,
 "nbformat_minor": 0,
 "worksheets": [
  {
   "cells": [
    {
     "cell_type": "code",
     "collapsed": false,
     "input": [
      "text =open(\"cig.csv\", \"rb\")\n",
      "reader = csv.reader(text)\n"
     ],
     "language": "python",
     "metadata": {},
     "outputs": []
    }
   ],
   "metadata": {}
  }
 ]
}