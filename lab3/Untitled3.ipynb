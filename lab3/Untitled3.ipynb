{
 "metadata": {
  "name": ""
 },
 "nbformat": 3,
 "nbformat_minor": 0,
 "worksheets": [
  {
   "cells": [
    {
     "cell_type": "raw",
     "metadata": {},
     "source": [
      "IQ and Brain Size\n"
     ]
    },
    {
     "cell_type": "code",
     "collapsed": false,
     "input": [
      "import csv\n",
      "from pylab import *\n",
      "f = open('cig.csv', 'rb')\n",
      "reader = csv.reader(f)\n",
      "tc=[]\n",
      "nc=[]\n",
      "for row in reader :\n",
      "    a=row[0].replace(\"\\t\",\" \")\n",
      "    a=a.split()\n",
      "    c=[a[0]]\n",
      "    b=a[1:]\n",
      "    b=map(float,b)\n",
      "    tc.append(b[0])\n",
      "    nc.append(b[1])\n",
      "\n",
      "    c.extend(b)\n",
      "    #print c\n",
      "print tc\n",
      "print nc\n",
      "\n",
      "why = plt.figure()\n",
      "why2 = why.add_subplot(111)\n",
      "why2.set_title('Ciggarets Tar content and Nicotine content')\n",
      "why2.set_xlabel('Tar content (mg)')\n",
      "why2.set_ylabel('Nicotine content (mg)')\n",
      "why2.scatter(tc,nc)\n",
      "why.savefig(\"Ciggarets.png\")\n",
      "f.close()\n"
     ],
     "language": "python",
     "metadata": {},
     "outputs": []
    }
   ],
   "metadata": {}
  }
 ]
}